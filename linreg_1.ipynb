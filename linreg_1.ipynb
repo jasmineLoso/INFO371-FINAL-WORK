{
 "cells": [
  {
   "cell_type": "code",
   "execution_count": 1,
   "id": "52a3e511-6a46-40fb-9b34-f0c6a3d4f065",
   "metadata": {},
   "outputs": [],
   "source": [
    "import pandas as pd\n",
    "import seaborn as sns\n",
    "import matplotlib.pyplot as plt"
   ]
  },
  {
   "cell_type": "code",
   "execution_count": 2,
   "id": "863f4d7d-f63b-49d0-a52a-efbc60f8ddda",
   "metadata": {},
   "outputs": [
    {
     "data": {
      "text/html": [
       "<div>\n",
       "<style scoped>\n",
       "    .dataframe tbody tr th:only-of-type {\n",
       "        vertical-align: middle;\n",
       "    }\n",
       "\n",
       "    .dataframe tbody tr th {\n",
       "        vertical-align: top;\n",
       "    }\n",
       "\n",
       "    .dataframe thead th {\n",
       "        text-align: right;\n",
       "    }\n",
       "</style>\n",
       "<table border=\"1\" class=\"dataframe\">\n",
       "  <thead>\n",
       "    <tr style=\"text-align: right;\">\n",
       "      <th></th>\n",
       "      <th>danceability</th>\n",
       "      <th>energy</th>\n",
       "      <th>key</th>\n",
       "      <th>loudness</th>\n",
       "      <th>mode</th>\n",
       "      <th>speechiness</th>\n",
       "      <th>acousticness</th>\n",
       "      <th>instrumentalness</th>\n",
       "      <th>liveness</th>\n",
       "      <th>valence</th>\n",
       "      <th>tempo</th>\n",
       "      <th>type</th>\n",
       "      <th>duration_ms</th>\n",
       "      <th>time_signature</th>\n",
       "      <th>MBTI</th>\n",
       "    </tr>\n",
       "  </thead>\n",
       "  <tbody>\n",
       "    <tr>\n",
       "      <th>0</th>\n",
       "      <td>0.487</td>\n",
       "      <td>0.716</td>\n",
       "      <td>5</td>\n",
       "      <td>-6.294</td>\n",
       "      <td>1</td>\n",
       "      <td>0.0348</td>\n",
       "      <td>0.00873</td>\n",
       "      <td>0.000203</td>\n",
       "      <td>0.1340</td>\n",
       "      <td>0.5940</td>\n",
       "      <td>104.980</td>\n",
       "      <td>audio_features</td>\n",
       "      <td>163448</td>\n",
       "      <td>4</td>\n",
       "      <td>ENFJ</td>\n",
       "    </tr>\n",
       "    <tr>\n",
       "      <th>1</th>\n",
       "      <td>0.560</td>\n",
       "      <td>0.936</td>\n",
       "      <td>3</td>\n",
       "      <td>-5.835</td>\n",
       "      <td>1</td>\n",
       "      <td>0.0439</td>\n",
       "      <td>0.00847</td>\n",
       "      <td>0.000000</td>\n",
       "      <td>0.1610</td>\n",
       "      <td>0.3710</td>\n",
       "      <td>112.960</td>\n",
       "      <td>audio_features</td>\n",
       "      <td>218013</td>\n",
       "      <td>4</td>\n",
       "      <td>ENFJ</td>\n",
       "    </tr>\n",
       "    <tr>\n",
       "      <th>2</th>\n",
       "      <td>0.494</td>\n",
       "      <td>0.632</td>\n",
       "      <td>5</td>\n",
       "      <td>-6.890</td>\n",
       "      <td>1</td>\n",
       "      <td>0.0342</td>\n",
       "      <td>0.68200</td>\n",
       "      <td>0.000000</td>\n",
       "      <td>0.0869</td>\n",
       "      <td>0.0797</td>\n",
       "      <td>147.873</td>\n",
       "      <td>audio_features</td>\n",
       "      <td>274693</td>\n",
       "      <td>4</td>\n",
       "      <td>ENFJ</td>\n",
       "    </tr>\n",
       "    <tr>\n",
       "      <th>3</th>\n",
       "      <td>0.574</td>\n",
       "      <td>0.555</td>\n",
       "      <td>6</td>\n",
       "      <td>-6.478</td>\n",
       "      <td>0</td>\n",
       "      <td>0.0357</td>\n",
       "      <td>0.24400</td>\n",
       "      <td>0.000011</td>\n",
       "      <td>0.2530</td>\n",
       "      <td>0.5720</td>\n",
       "      <td>159.192</td>\n",
       "      <td>audio_features</td>\n",
       "      <td>208614</td>\n",
       "      <td>4</td>\n",
       "      <td>ENFJ</td>\n",
       "    </tr>\n",
       "    <tr>\n",
       "      <th>4</th>\n",
       "      <td>0.537</td>\n",
       "      <td>0.863</td>\n",
       "      <td>7</td>\n",
       "      <td>-4.460</td>\n",
       "      <td>1</td>\n",
       "      <td>0.0446</td>\n",
       "      <td>0.00201</td>\n",
       "      <td>0.000000</td>\n",
       "      <td>0.2010</td>\n",
       "      <td>0.4840</td>\n",
       "      <td>97.020</td>\n",
       "      <td>audio_features</td>\n",
       "      <td>203587</td>\n",
       "      <td>4</td>\n",
       "      <td>ENFJ</td>\n",
       "    </tr>\n",
       "  </tbody>\n",
       "</table>\n",
       "</div>"
      ],
      "text/plain": [
       "   danceability  energy  key  loudness  mode  speechiness  acousticness  \\\n",
       "0         0.487   0.716    5    -6.294     1       0.0348       0.00873   \n",
       "1         0.560   0.936    3    -5.835     1       0.0439       0.00847   \n",
       "2         0.494   0.632    5    -6.890     1       0.0342       0.68200   \n",
       "3         0.574   0.555    6    -6.478     0       0.0357       0.24400   \n",
       "4         0.537   0.863    7    -4.460     1       0.0446       0.00201   \n",
       "\n",
       "   instrumentalness  liveness  valence    tempo            type  duration_ms  \\\n",
       "0          0.000203    0.1340   0.5940  104.980  audio_features       163448   \n",
       "1          0.000000    0.1610   0.3710  112.960  audio_features       218013   \n",
       "2          0.000000    0.0869   0.0797  147.873  audio_features       274693   \n",
       "3          0.000011    0.2530   0.5720  159.192  audio_features       208614   \n",
       "4          0.000000    0.2010   0.4840   97.020  audio_features       203587   \n",
       "\n",
       "   time_signature  MBTI  \n",
       "0               4  ENFJ  \n",
       "1               4  ENFJ  \n",
       "2               4  ENFJ  \n",
       "3               4  ENFJ  \n",
       "4               4  ENFJ  "
      ]
     },
     "execution_count": 2,
     "metadata": {},
     "output_type": "execute_result"
    }
   ],
   "source": [
    "mbti = pd.read_csv('Combined_songs - Combined_songs.csv')\n",
    "mbti = mbti.drop(columns=['uri','id','analysis_url','track_href'])\n",
    "mbti.head(5)"
   ]
  },
  {
   "cell_type": "code",
   "execution_count": 5,
   "id": "4c167d54-7991-4e95-96e0-a43be91bc6f1",
   "metadata": {},
   "outputs": [
    {
     "data": {
      "text/plain": [
       "array(['ENFJ', 'ENFP', 'ENTJ', 'ENTP', 'ESFJ', 'ESFP', 'ESTJ', 'ESTP',\n",
       "       'INFJ', 'INFP', 'INTJ', 'INTP', 'ISFJ', 'ISFP', 'ISTJ', 'ISTP'],\n",
       "      dtype=object)"
      ]
     },
     "execution_count": 5,
     "metadata": {},
     "output_type": "execute_result"
    }
   ],
   "source": [
    "mbti['MBTI'].unique()"
   ]
  },
  {
   "cell_type": "code",
   "execution_count": 6,
   "id": "73db85d0-eb15-4832-a489-382e1f684382",
   "metadata": {},
   "outputs": [
    {
     "data": {
      "text/plain": [
       "danceability        67882\n",
       "energy              67882\n",
       "key                 67882\n",
       "loudness            67882\n",
       "mode                67882\n",
       "speechiness         67882\n",
       "acousticness        67882\n",
       "instrumentalness    67882\n",
       "liveness            67882\n",
       "valence             67882\n",
       "tempo               67882\n",
       "type                67882\n",
       "duration_ms         67882\n",
       "time_signature      67882\n",
       "MBTI                67882\n",
       "dtype: int64"
      ]
     },
     "execution_count": 6,
     "metadata": {},
     "output_type": "execute_result"
    }
   ],
   "source": [
    "ext = mbti[mbti['MBTI'].isin(['ENFJ', 'ENFP', 'ENTJ', 'ENTP', 'ESFJ', 'ESFP', 'ESTJ', 'ESTP'])]\n",
    "ext.count()"
   ]
  },
  {
   "cell_type": "code",
   "execution_count": 7,
   "id": "f3adbb60-2dd3-4f97-8de8-0042ce91ad1b",
   "metadata": {},
   "outputs": [
    {
     "data": {
      "text/plain": [
       "danceability        74672\n",
       "energy              74672\n",
       "key                 74672\n",
       "loudness            74672\n",
       "mode                74672\n",
       "speechiness         74672\n",
       "acousticness        74672\n",
       "instrumentalness    74672\n",
       "liveness            74672\n",
       "valence             74672\n",
       "tempo               74672\n",
       "type                74672\n",
       "duration_ms         74672\n",
       "time_signature      74672\n",
       "MBTI                74672\n",
       "dtype: int64"
      ]
     },
     "execution_count": 7,
     "metadata": {},
     "output_type": "execute_result"
    }
   ],
   "source": [
    "int = mbti[mbti['MBTI'].isin(['INFJ', 'INFP', 'INTJ', 'INTP', 'ISFJ', 'ISFP', 'ISTJ', 'ISTP'])]\n",
    "int.count()"
   ]
  },
  {
   "cell_type": "code",
   "execution_count": 8,
   "id": "47be786d-d76a-4b17-b6fa-5f86723783ef",
   "metadata": {},
   "outputs": [
    {
     "data": {
      "text/plain": [
       "MBTI\n",
       "INFP    12099\n",
       "ENFP    11631\n",
       "INFJ    11498\n",
       "ESTP    11352\n",
       "ENFJ    11076\n",
       "INTJ    10715\n",
       "INTP     9618\n",
       "ENTP     9120\n",
       "ISTP     8862\n",
       "ENTJ     8656\n",
       "ISFP     8490\n",
       "ESFP     7788\n",
       "ISFJ     7349\n",
       "ISTJ     6041\n",
       "ESTJ     4441\n",
       "ESFJ     3818\n",
       "Name: count, dtype: int64"
      ]
     },
     "execution_count": 8,
     "metadata": {},
     "output_type": "execute_result"
    }
   ],
   "source": [
    "mbti['MBTI'].value_counts()"
   ]
  },
  {
   "cell_type": "markdown",
   "id": "6750e43d-1750-499f-bb20-553bf2fb5270",
   "metadata": {},
   "source": [
    "#### Sum Stats in energy, tempo"
   ]
  },
  {
   "cell_type": "code",
   "execution_count": 9,
   "id": "f6761785-33f6-4dfd-bd65-34422c63165e",
   "metadata": {},
   "outputs": [
    {
     "name": "stdout",
     "output_type": "stream",
     "text": [
      "count    67882.000000\n",
      "mean         0.654835\n",
      "std          0.206206\n",
      "min          0.000086\n",
      "25%          0.524000\n",
      "50%          0.683000\n",
      "75%          0.819000\n",
      "max          1.000000\n",
      "Name: energy, dtype: float64 count    67882.000000\n",
      "mean       122.343524\n",
      "std         28.718503\n",
      "min          0.000000\n",
      "25%        100.004000\n",
      "50%        120.175000\n",
      "75%        140.013000\n",
      "max        241.808000\n",
      "Name: tempo, dtype: float64\n"
     ]
    }
   ],
   "source": [
    "e_energy = ext['energy'].describe()\n",
    "e_tempo = ext['tempo'].describe()\n",
    "\n",
    "print(e_energy, e_tempo)"
   ]
  },
  {
   "cell_type": "code",
   "execution_count": 10,
   "id": "e54e7c58-aa82-400a-946c-02a0c2a1e0c4",
   "metadata": {},
   "outputs": [],
   "source": [
    "e_mean_energy_mbti = ext.groupby('MBTI')['energy'].mean()"
   ]
  },
  {
   "cell_type": "code",
   "execution_count": 11,
   "id": "ae439f94-74e1-4791-8eed-d6a56b6be867",
   "metadata": {},
   "outputs": [],
   "source": [
    "e_mean_tempo_mbti = ext.groupby('MBTI')['tempo'].mean()"
   ]
  },
  {
   "cell_type": "code",
   "execution_count": 13,
   "id": "9dbd1e3e-2e2b-4912-a919-105da8119096",
   "metadata": {},
   "outputs": [],
   "source": [
    "ext_means = pd.DataFrame({\n",
    "    'MBTI':e_mean_energy_mbti.index,\n",
    "    'e_mean_energy_mbti' : e_mean_energy_mbti.values,\n",
    "    'e_mean_tempo_mbti': e_mean_tempo_mbti.values})"
   ]
  },
  {
   "cell_type": "code",
   "execution_count": 35,
   "id": "97584697-288d-4cc6-b2c7-eaf02feada16",
   "metadata": {},
   "outputs": [
    {
     "data": {
      "text/plain": [
       "Text(0.5, 1.0, 'Extroverted Energy vs Tempo')"
      ]
     },
     "execution_count": 35,
     "metadata": {},
     "output_type": "execute_result"
    },
    {
     "data": {
      "image/png": "[encoded data removed]",
      "text/plain": [
       "<Figure size 640x480 with 1 Axes>"
      ]
     },
     "metadata": {},
     "output_type": "display_data"
    }
   ],
   "source": [
    "sns.scatterplot( data = ext_means, x ='e_mean_energy_mbti' ,y='e_mean_tempo_mbti', hue ='MBTI' )\n",
    "plt.title('Extroverted Energy vs Tempo')"
   ]
  },
  {
   "cell_type": "code",
   "execution_count": 15,
   "id": "537a1839-149c-43ce-b85f-1a5c9c287f9f",
   "metadata": {},
   "outputs": [
    {
     "name": "stdout",
     "output_type": "stream",
     "text": [
      "count    74672.000000\n",
      "mean       121.076744\n",
      "std         29.842483\n",
      "min          0.000000\n",
      "25%         97.396500\n",
      "50%        119.990500\n",
      "75%        140.051000\n",
      "max        222.605000\n",
      "Name: tempo, dtype: float64 count    74672.000000\n",
      "mean         0.597053\n",
      "std          0.230380\n",
      "min          0.000000\n",
      "25%          0.436000\n",
      "50%          0.620000\n",
      "75%          0.785000\n",
      "max          0.999000\n",
      "Name: energy, dtype: float64\n"
     ]
    }
   ],
   "source": [
    "i_tempo = int['tempo'].describe()\n",
    "i_energy = int['energy'].describe()\n",
    "\n",
    "print(i_tempo, i_energy)"
   ]
  },
  {
   "cell_type": "code",
   "execution_count": 16,
   "id": "a3d94f7e-27c4-4c2e-a945-a8775d42b30a",
   "metadata": {},
   "outputs": [],
   "source": [
    "i_mean_energy_mbti = int.groupby('MBTI')['energy'].mean()\n",
    "i_mean_tempo_mbti = int.groupby('MBTI')['tempo'].mean()"
   ]
  },
  {
   "cell_type": "code",
   "execution_count": 36,
   "id": "8f8e2dbc-c8a4-42e0-a24f-95d5d3c1675b",
   "metadata": {},
   "outputs": [],
   "source": [
    "int_means = pd.DataFrame({\n",
    "    'MBTI':i_mean_energy_mbti.index,\n",
    "    'i_mean_energy_mbti' : i_mean_energy_mbti.values,\n",
    "    'i_mean_tempo_mbti': i_mean_tempo_mbti.values})"
   ]
  },
  {
   "cell_type": "code",
   "execution_count": 38,
   "id": "1bce54df-e233-49ff-8e7b-315ca0fbe645",
   "metadata": {},
   "outputs": [
    {
     "data": {
      "text/plain": [
       "Text(0.5, 1.0, 'Introverted Energy vs Tempo')"
      ]
     },
     "execution_count": 38,
     "metadata": {},
     "output_type": "execute_result"
    },
    {
     "data": {
      "image/png": "[encoded data removed]",
      "text/plain": [
       "<Figure size 640x480 with 1 Axes>"
      ]
     },
     "metadata": {},
     "output_type": "display_data"
    }
   ],
   "source": [
    "sns.scatterplot( data = int_means, x ='i_mean_energy_mbti' ,y='i_mean_tempo_mbti', hue ='MBTI' )\n",
    "plt.title('Introverted Energy vs Tempo')"
   ]
  },
  {
   "cell_type": "markdown",
   "id": "5e48b5df-2278-458a-af99-7dee0a6d9617",
   "metadata": {},
   "source": [
    "# Regression Prediction "
   ]
  },
  {
   "cell_type": "code",
   "execution_count": 21,
   "id": "648ceb06-ad1a-4ae0-b632-5120e593b003",
   "metadata": {},
   "outputs": [],
   "source": [
    "from sklearn.model_selection import train_test_split\n",
    "from sklearn.linear_model import LinearRegression\n",
    "from sklearn.metrics import mean_squared_error\n"
   ]
  },
  {
   "cell_type": "code",
   "execution_count": 28,
   "id": "6a0d251d-aa45-481b-a519-9dc7279b7b6d",
   "metadata": {},
   "outputs": [],
   "source": [
    "df_encoded = pd.get_dummies(mbti, columns=['MBTI'], drop_first=True)\n"
   ]
  },
  {
   "cell_type": "code",
   "execution_count": 29,
   "id": "a55eba96-fc4b-4290-9c44-d3469aa6dd74",
   "metadata": {},
   "outputs": [],
   "source": [
    "X = df_encoded[['energy'] + [col for col in df_encoded.columns if col.startswith('MBTI')]]\n",
    "y = df_encoded['tempo'] \n",
    "X_train, X_test, y_train, y_test = train_test_split(X, y, test_size=0.2, random_state=42)\n"
   ]
  },
  {
   "cell_type": "code",
   "execution_count": 30,
   "id": "d0a83f3e-9e03-495d-a45f-768cbd6c0215",
   "metadata": {},
   "outputs": [
    {
     "data": {
      "text/html": [
       "<style>#sk-container-id-1 {color: black;}#sk-container-id-1 pre{padding: 0;}#sk-container-id-1 div.sk-toggleable {background-color: white;}#sk-container-id-1 label.sk-toggleable__label {cursor: pointer;display: block;width: 100%;margin-bottom: 0;padding: 0.3em;box-sizing: border-box;text-align: center;}#sk-container-id-1 label.sk-toggleable__label-arrow:before {content: \"▸\";float: left;margin-right: 0.25em;color: #696969;}#sk-container-id-1 label.sk-toggleable__label-arrow:hover:before {color: black;}#sk-container-id-1 div.sk-estimator:hover label.sk-toggleable__label-arrow:before {color: black;}#sk-container-id-1 div.sk-toggleable__content {max-height: 0;max-width: 0;overflow: hidden;text-align: left;background-color: #f0f8ff;}#sk-container-id-1 div.sk-toggleable__content pre {margin: 0.2em;color: black;border-radius: 0.25em;background-color: #f0f8ff;}#sk-container-id-1 input.sk-toggleable__control:checked~div.sk-toggleable__content {max-height: 200px;max-width: 100%;overflow: auto;}#sk-container-id-1 input.sk-toggleable__control:checked~label.sk-toggleable__label-arrow:before {content: \"▾\";}#sk-container-id-1 div.sk-estimator input.sk-toggleable__control:checked~label.sk-toggleable__label {background-color: #d4ebff;}#sk-container-id-1 div.sk-label input.sk-toggleable__control:checked~label.sk-toggleable__label {background-color: #d4ebff;}#sk-container-id-1 input.sk-hidden--visually {border: 0;clip: rect(1px 1px 1px 1px);clip: rect(1px, 1px, 1px, 1px);height: 1px;margin: -1px;overflow: hidden;padding: 0;position: absolute;width: 1px;}#sk-container-id-1 div.sk-estimator {font-family: monospace;background-color: #f0f8ff;border: 1px dotted black;border-radius: 0.25em;box-sizing: border-box;margin-bottom: 0.5em;}#sk-container-id-1 div.sk-estimator:hover {background-color: #d4ebff;}#sk-container-id-1 div.sk-parallel-item::after {content: \"\";width: 100%;border-bottom: 1px solid gray;flex-grow: 1;}#sk-container-id-1 div.sk-label:hover label.sk-toggleable__label {background-color: #d4ebff;}#sk-container-id-1 div.sk-serial::before {content: \"\";position: absolute;border-left: 1px solid gray;box-sizing: border-box;top: 0;bottom: 0;left: 50%;z-index: 0;}#sk-container-id-1 div.sk-serial {display: flex;flex-direction: column;align-items: center;background-color: white;padding-right: 0.2em;padding-left: 0.2em;position: relative;}#sk-container-id-1 div.sk-item {position: relative;z-index: 1;}#sk-container-id-1 div.sk-parallel {display: flex;align-items: stretch;justify-content: center;background-color: white;position: relative;}#sk-container-id-1 div.sk-item::before, #sk-container-id-1 div.sk-parallel-item::before {content: \"\";position: absolute;border-left: 1px solid gray;box-sizing: border-box;top: 0;bottom: 0;left: 50%;z-index: -1;}#sk-container-id-1 div.sk-parallel-item {display: flex;flex-direction: column;z-index: 1;position: relative;background-color: white;}#sk-container-id-1 div.sk-parallel-item:first-child::after {align-self: flex-end;width: 50%;}#sk-container-id-1 div.sk-parallel-item:last-child::after {align-self: flex-start;width: 50%;}#sk-container-id-1 div.sk-parallel-item:only-child::after {width: 0;}#sk-container-id-1 div.sk-dashed-wrapped {border: 1px dashed gray;margin: 0 0.4em 0.5em 0.4em;box-sizing: border-box;padding-bottom: 0.4em;background-color: white;}#sk-container-id-1 div.sk-label label {font-family: monospace;font-weight: bold;display: inline-block;line-height: 1.2em;}#sk-container-id-1 div.sk-label-container {text-align: center;}#sk-container-id-1 div.sk-container {/* jupyter's `normalize.less` sets `[hidden] { display: none; }` but bootstrap.min.css set `[hidden] { display: none !important; }` so we also need the `!important` here to be able to override the default hidden behavior on the sphinx rendered scikit-learn.org. See: https://github.com/scikit-learn/scikit-learn/issues/21755 */display: inline-block !important;position: relative;}#sk-container-id-1 div.sk-text-repr-fallback {display: none;}</style><div id=\"sk-container-id-1\" class=\"sk-top-container\"><div class=\"sk-text-repr-fallback\"><pre>LinearRegression()</pre><b>In a Jupyter environment, please rerun this cell to show the HTML representation or trust the notebook. <br />On GitHub, the HTML representation is unable to render, please try loading this page with nbviewer.org.</b></div><div class=\"sk-container\" hidden><div class=\"sk-item\"><div class=\"sk-estimator sk-toggleable\"><input class=\"sk-toggleable__control sk-hidden--visually\" id=\"sk-estimator-id-1\" type=\"checkbox\" checked><label for=\"sk-estimator-id-1\" class=\"sk-toggleable__label sk-toggleable__label-arrow\">LinearRegression</label><div class=\"sk-toggleable__content\"><pre>LinearRegression()</pre></div></div></div></div></div>"
      ],
      "text/plain": [
       "LinearRegression()"
      ]
     },
     "execution_count": 30,
     "metadata": {},
     "output_type": "execute_result"
    }
   ],
   "source": [
    "regressor = LinearRegression()\n",
    "regressor.fit(X_train,y_train)"
   ]
  },
  {
   "cell_type": "code",
   "execution_count": 33,
   "id": "596f29b8-8fc4-4115-8d98-725452dbbd77",
   "metadata": {},
   "outputs": [
    {
     "name": "stdout",
     "output_type": "stream",
     "text": [
      "mse:831.024446024466 r2:0.03575020201819834\n"
     ]
    }
   ],
   "source": [
    "y_pred = regressor.predict(X_test)\n",
    "mse = mean_squared_error(y_test, y_pred)\n",
    "r2 = regressor.score(X_test, y_test)\n",
    "print('mse:' + str(mse), 'r2:' + str(r2))\n"
   ]
  }
 ],
 "metadata": {
  "kernelspec": {
   "display_name": "Python 3 (ipykernel)",
   "language": "python",
   "name": "python3"
  },
  "language_info": {
   "codemirror_mode": {
    "name": "ipython",
    "version": 3
   },
   "file_extension": ".py",
   "mimetype": "text/x-python",
   "name": "python",
   "nbconvert_exporter": "python",
   "pygments_lexer": "ipython3",
   "version": "3.10.13"
  }
 },
 "nbformat": 4,
 "nbformat_minor": 5
}
